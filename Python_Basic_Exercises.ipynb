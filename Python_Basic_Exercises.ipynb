{
  "nbformat": 4,
  "nbformat_minor": 0,
  "metadata": {
    "colab": {
      "name": "Python-Basic-Exercises.ipynb",
      "provenance": [],
      "include_colab_link": true
    },
    "kernelspec": {
      "name": "python3",
      "display_name": "Python 3"
    }
  },
  "cells": [
    {
      "cell_type": "markdown",
      "metadata": {
        "id": "view-in-github",
        "colab_type": "text"
      },
      "source": [
        "<a href=\"https://colab.research.google.com/github/bravi29/Python-Exercises/blob/master/Python_Basic_Exercises.ipynb\" target=\"_parent\"><img src=\"https://colab.research.google.com/assets/colab-badge.svg\" alt=\"Open In Colab\"/></a>"
      ]
    },
    {
      "cell_type": "code",
      "metadata": {
        "id": "rpYN-xmTFvQn",
        "colab_type": "code",
        "outputId": "c05dc35e-6fab-4ccb-ae7c-fb7a4fed2d38",
        "colab": {
          "base_uri": "https://localhost:8080/",
          "height": 35
        }
      },
      "source": [
        "print(\"Hello Welocme to Python\")"
      ],
      "execution_count": 0,
      "outputs": [
        {
          "output_type": "stream",
          "text": [
            "Hello Welocme to Python\n"
          ],
          "name": "stdout"
        }
      ]
    },
    {
      "cell_type": "markdown",
      "metadata": {
        "id": "PH7GegoLbAV-",
        "colab_type": "text"
      },
      "source": [
        "Get the  Python version"
      ]
    },
    {
      "cell_type": "code",
      "metadata": {
        "id": "vbkmwjC0a3cq",
        "colab_type": "code",
        "colab": {
          "base_uri": "https://localhost:8080/",
          "height": 101
        },
        "outputId": "0ee969ef-eb49-4c9b-f459-2ae11fbdc65e"
      },
      "source": [
        "import sys\n",
        "print(\"Python version\")\n",
        "print (sys.version)\n",
        "print(\"Version info.\")\n",
        "print (sys.version_info)  #Version Info : A tuple containing the five components of the version number: major, minor, micro, releaselevel, and serial"
      ],
      "execution_count": 1,
      "outputs": [
        {
          "output_type": "stream",
          "text": [
            "Python version\n",
            "3.6.9 (default, Nov  7 2019, 10:44:02) \n",
            "[GCC 8.3.0]\n",
            "Version info.\n",
            "sys.version_info(major=3, minor=6, micro=9, releaselevel='final', serial=0)\n"
          ],
          "name": "stdout"
        }
      ]
    },
    {
      "cell_type": "markdown",
      "metadata": {
        "id": "oVo2KozebWin",
        "colab_type": "text"
      },
      "source": [
        " **Note :** 'sys' module provides access to some variables used or maintained by the interpreter and to functions that interact strongly with the interpreter.\n",
        "\n",
        " All values except releaselevel are integers; the release level is 'alpha', 'beta', 'candidate', or 'final'.\n",
        " "
      ]
    },
    {
      "cell_type": "code",
      "metadata": {
        "id": "FzFBIuZzdBXG",
        "colab_type": "code",
        "colab": {
          "base_uri": "https://localhost:8080/",
          "height": 34
        },
        "outputId": "03a361b2-5e9c-4c21-87bc-a2273f486585"
      },
      "source": [
        "sys.version_info[0]   #  The components can also be accessed by name or index\n",
        "\n",
        "sys.version_info.major  # Both commands are same"
      ],
      "execution_count": 6,
      "outputs": [
        {
          "output_type": "execute_result",
          "data": {
            "text/plain": [
              "3"
            ]
          },
          "metadata": {
            "tags": []
          },
          "execution_count": 6
        }
      ]
    },
    {
      "cell_type": "markdown",
      "metadata": {
        "id": "1i_lDUN6fZIM",
        "colab_type": "text"
      },
      "source": [
        "Get the Current Date and Time"
      ]
    },
    {
      "cell_type": "code",
      "metadata": {
        "id": "NTB_JBy9fYHV",
        "colab_type": "code",
        "colab": {
          "base_uri": "https://localhost:8080/",
          "height": 50
        },
        "outputId": "0b81a6b0-3cc2-4007-ffc7-44706add2db1"
      },
      "source": [
        "import datetime as dt\n",
        "now = dt.datetime.now()\n",
        "print (\"Current date and time : \")\n",
        "print (now.strftime(\"%Y-%m-%d %H:%M:%S\"))"
      ],
      "execution_count": 8,
      "outputs": [
        {
          "output_type": "stream",
          "text": [
            "Current date and time : \n",
            "2019-12-07 17:55:12\n"
          ],
          "name": "stdout"
        }
      ]
    },
    {
      "cell_type": "markdown",
      "metadata": {
        "id": "F8a01Gjxf2ON",
        "colab_type": "text"
      },
      "source": [
        "**Note :** date.strftime(format) returns a string representing the date, controlled by an explicit format string. Format codes referring to hours, minutes or seconds will see 0 values."
      ]
    }
  ]
}